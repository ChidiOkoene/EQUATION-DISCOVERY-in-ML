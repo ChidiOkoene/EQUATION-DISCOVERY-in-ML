import numpy as np

import pysindy as ps


xi_train = np.random.rand(100, 3)


xi_train


feats_names = ['x', 'y', 'z']
opt = ps.STLSQ(threshold=0.1)
model = ps.SINDy(feature_names=feats_names, optimizer=opt)
model.fit(xi_train, t=dt)
model.print()


!pip install scikit-learn==0.24


import pysindy as ps
import numpy as np

# Synthetic time-series data
num_timesteps = 100
dt = 0.1  # time interval between measurements
xi_train = np.random.rand(num_timesteps, 3)  # 100 time steps, 3 features (x, y, z)

# Set up the optimizer and model
opt = ps.STLSQ(threshold=0.1)  # Optimizer with threshold for sparsity
feats_names = ['x', 'y', 'z']  # Feature names
model = ps.SINDy(feature_names=feats_names, optimizer=opt)

# Fit the model
model.fit(xi_train, t=dt)
model.print()





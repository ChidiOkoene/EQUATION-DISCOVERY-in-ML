{
 "cells": [
  {
   "cell_type": "code",
   "execution_count": 1,
   "metadata": {},
   "outputs": [
    {
     "name": "stdout",
     "output_type": "stream",
     "text": [
      "Collecting pysr\n",
      "  Using cached pysr-0.19.4-py3-none-any.whl.metadata (53 kB)\n",
      "Collecting sympy<2.0.0,>=1.0.0 (from pysr)\n",
      "  Downloading sympy-1.13.3-py3-none-any.whl.metadata (12 kB)\n",
      "Requirement already satisfied: pandas<3.0.0,>=0.21.0 in c:\\users\\chidi\\anaconda3\\envs\\boot_da\\lib\\site-packages (from pysr) (2.2.1)\n",
      "Requirement already satisfied: numpy<3.0.0,>=1.13.0 in c:\\users\\chidi\\anaconda3\\envs\\boot_da\\lib\\site-packages (from pysr) (1.26.4)\n",
      "Requirement already satisfied: scikit-learn<2.0.0,>=1.0.0 in c:\\users\\chidi\\anaconda3\\envs\\boot_da\\lib\\site-packages (from pysr) (1.5.1)\n",
      "Collecting juliacall==0.9.23 (from pysr)\n",
      "  Using cached juliacall-0.9.23-py3-none-any.whl.metadata (4.6 kB)\n",
      "Collecting click<9.0.0,>=7.0.0 (from pysr)\n",
      "  Using cached click-8.1.7-py3-none-any.whl.metadata (3.0 kB)\n",
      "Requirement already satisfied: setuptools>=50.0.0 in c:\\users\\chidi\\anaconda3\\envs\\boot_da\\lib\\site-packages (from pysr) (68.2.2)\n",
      "Collecting juliapkg~=0.1.8 (from juliacall==0.9.23->pysr)\n",
      "  Using cached juliapkg-0.1.14-py3-none-any.whl.metadata (6.1 kB)\n",
      "Requirement already satisfied: colorama in c:\\users\\chidi\\anaconda3\\envs\\boot_da\\lib\\site-packages (from click<9.0.0,>=7.0.0->pysr) (0.4.6)\n",
      "Requirement already satisfied: python-dateutil>=2.8.2 in c:\\users\\chidi\\anaconda3\\envs\\boot_da\\lib\\site-packages (from pandas<3.0.0,>=0.21.0->pysr) (2.8.2)\n",
      "Requirement already satisfied: pytz>=2020.1 in c:\\users\\chidi\\anaconda3\\envs\\boot_da\\lib\\site-packages (from pandas<3.0.0,>=0.21.0->pysr) (2023.3.post1)\n",
      "Requirement already satisfied: tzdata>=2022.7 in c:\\users\\chidi\\anaconda3\\envs\\boot_da\\lib\\site-packages (from pandas<3.0.0,>=0.21.0->pysr) (2023.3)\n",
      "Requirement already satisfied: scipy>=1.6.0 in c:\\users\\chidi\\anaconda3\\envs\\boot_da\\lib\\site-packages (from scikit-learn<2.0.0,>=1.0.0->pysr) (1.12.0)\n",
      "Requirement already satisfied: joblib>=1.2.0 in c:\\users\\chidi\\anaconda3\\envs\\boot_da\\lib\\site-packages (from scikit-learn<2.0.0,>=1.0.0->pysr) (1.4.2)\n",
      "Requirement already satisfied: threadpoolctl>=3.1.0 in c:\\users\\chidi\\anaconda3\\envs\\boot_da\\lib\\site-packages (from scikit-learn<2.0.0,>=1.0.0->pysr) (3.5.0)\n",
      "Collecting mpmath<1.4,>=1.1.0 (from sympy<2.0.0,>=1.0.0->pysr)\n",
      "  Downloading mpmath-1.3.0-py3-none-any.whl.metadata (8.6 kB)\n",
      "Collecting semver~=3.0 (from juliapkg~=0.1.8->juliacall==0.9.23->pysr)\n",
      "  Using cached semver-3.0.2-py3-none-any.whl.metadata (5.0 kB)\n",
      "Requirement already satisfied: six>=1.5 in c:\\users\\chidi\\anaconda3\\envs\\boot_da\\lib\\site-packages (from python-dateutil>=2.8.2->pandas<3.0.0,>=0.21.0->pysr) (1.16.0)\n",
      "Using cached pysr-0.19.4-py3-none-any.whl (80 kB)\n",
      "Using cached juliacall-0.9.23-py3-none-any.whl (12 kB)\n",
      "Using cached click-8.1.7-py3-none-any.whl (97 kB)\n",
      "Downloading sympy-1.13.3-py3-none-any.whl (6.2 MB)\n",
      "   ---------------------------------------- 0.0/6.2 MB ? eta -:--:--\n",
      "    --------------------------------------- 0.1/6.2 MB 2.2 MB/s eta 0:00:03\n",
      "   -- ------------------------------------- 0.4/6.2 MB 4.6 MB/s eta 0:00:02\n",
      "   ---- ----------------------------------- 0.7/6.2 MB 5.2 MB/s eta 0:00:02\n",
      "   ----- ---------------------------------- 0.9/6.2 MB 5.4 MB/s eta 0:00:01\n",
      "   ---------- ----------------------------- 1.6/6.2 MB 7.4 MB/s eta 0:00:01\n",
      "   ------------- -------------------------- 2.1/6.2 MB 7.9 MB/s eta 0:00:01\n",
      "   --------------- ------------------------ 2.4/6.2 MB 7.7 MB/s eta 0:00:01\n",
      "   ------------------ --------------------- 2.9/6.2 MB 8.0 MB/s eta 0:00:01\n",
      "   --------------------- ------------------ 3.4/6.2 MB 8.3 MB/s eta 0:00:01\n",
      "   ----------------------- ---------------- 3.7/6.2 MB 8.1 MB/s eta 0:00:01\n",
      "   --------------------------- ------------ 4.2/6.2 MB 8.4 MB/s eta 0:00:01\n",
      "   ---------------------------- ----------- 4.5/6.2 MB 8.4 MB/s eta 0:00:01\n",
      "   ------------------------------- -------- 4.8/6.2 MB 8.1 MB/s eta 0:00:01\n",
      "   ----------------------------------- ---- 5.4/6.2 MB 8.2 MB/s eta 0:00:01\n",
      "   ------------------------------------- -- 5.8/6.2 MB 8.2 MB/s eta 0:00:01\n",
      "   ---------------------------------------  6.2/6.2 MB 8.4 MB/s eta 0:00:01\n",
      "   ---------------------------------------- 6.2/6.2 MB 7.9 MB/s eta 0:00:00\n",
      "Using cached juliapkg-0.1.14-py3-none-any.whl (16 kB)\n",
      "Downloading mpmath-1.3.0-py3-none-any.whl (536 kB)\n",
      "   ---------------------------------------- 0.0/536.2 kB ? eta -:--:--\n",
      "   ------------------------- -------------- 337.9/536.2 kB 7.0 MB/s eta 0:00:01\n",
      "   ---------------------------------------- 536.2/536.2 kB 6.7 MB/s eta 0:00:00\n",
      "Using cached semver-3.0.2-py3-none-any.whl (17 kB)\n",
      "Installing collected packages: mpmath, sympy, semver, click, juliapkg, juliacall, pysr\n",
      "Successfully installed click-8.1.7 juliacall-0.9.23 juliapkg-0.1.14 mpmath-1.3.0 pysr-0.19.4 semver-3.0.2 sympy-1.13.3\n",
      "Note: you may need to restart the kernel to use updated packages.\n"
     ]
    }
   ],
   "source": [
    "pip install pysr\n"
   ]
  },
  {
   "cell_type": "code",
   "execution_count": null,
   "metadata": {},
   "outputs": [],
   "source": [
    "import numpy as np\n",
    "from pysr import pysr, best "
   ]
  },
  {
   "cell_type": "code",
   "execution_count": null,
   "metadata": {},
   "outputs": [],
   "source": []
  }
 ],
 "metadata": {
  "kernelspec": {
   "display_name": "boot_DA",
   "language": "python",
   "name": "python3"
  },
  "language_info": {
   "codemirror_mode": {
    "name": "ipython",
    "version": 3
   },
   "file_extension": ".py",
   "mimetype": "text/x-python",
   "name": "python",
   "nbconvert_exporter": "python",
   "pygments_lexer": "ipython3",
   "version": "3.10.14"
  }
 },
 "nbformat": 4,
 "nbformat_minor": 2
}

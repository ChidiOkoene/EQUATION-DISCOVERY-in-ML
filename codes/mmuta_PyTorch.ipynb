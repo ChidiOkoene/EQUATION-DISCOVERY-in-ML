{
 "cells": [
  {
   "cell_type": "code",
   "execution_count": 5,
   "metadata": {},
   "outputs": [],
   "source": [
    "import torch\n",
    "import torch.nn as nn\n",
    "import torch.optim as optim\n",
    "from torch.utils.data import DataLoader, TensorDataset"
   ]
  },
  {
   "cell_type": "code",
   "execution_count": null,
   "metadata": {},
   "outputs": [],
   "source": []
  },
  {
   "cell_type": "code",
   "execution_count": 7,
   "metadata": {},
   "outputs": [],
   "source": [
    "class SimpleNN(nn.Module):\n",
    "    def __init__(self):\n",
    "        super(SimpleNN, self).__init__()\n",
    "        # Dcefine layers: Linear -> ReLU -> Linear\n",
    "        self.fc1 = nn.Linear(2, 4) # input: 2 features output: 4 neurons\n",
    "        self.fc2 = nn.Linear(4, 1) # input: 4 features, output: 1 neuron\n",
    "\n",
    "    def forward(self, x):\n",
    "        # Define the forward pass\n",
    "        x = torch.relu(self.fc1(x)) # Apply ReLU activation \n",
    "        x = self.fc2(x) # Output layer (no activation here)\n",
    "        return x\n",
    "\n"
   ]
  },
  {
   "cell_type": "markdown",
   "metadata": {},
   "source": [
    "Create the model, loss function and optimizer"
   ]
  },
  {
   "cell_type": "code",
   "execution_count": 8,
   "metadata": {},
   "outputs": [],
   "source": [
    "# Intantiate the model\n",
    "model = SimpleNN()\n",
    "\n",
    "# Define the loss function (Mean Squared Error for Regression)\n",
    "criterion = nn.MSELoss()\n",
    "\n",
    "# Define the optimizer (Stochastic Gradient Descent with learning Rate)\n",
    "optimizer = optim.SGD(model.parameters(), lr=0.01)\n"
   ]
  },
  {
   "cell_type": "code",
   "execution_count": 9,
   "metadata": {},
   "outputs": [],
   "source": [
    "x_data = torch.tensor([[1.0, 2.0], [3.0, 4.0], [5.0, 6.0]])\n",
    "y_data = torch.tensor([[5.0], [7.0], [9.0]])\n",
    "\n",
    "# Create a dataloarder for batch processing\n",
    "dataset = TensorDataset(x_data, y_data)\n",
    "loader = DataLoader(dataset, batch_size=2, shuffle=True)\n",
    "\n"
   ]
  },
  {
   "cell_type": "code",
   "execution_count": 10,
   "metadata": {},
   "outputs": [
    {
     "name": "stdout",
     "output_type": "stream",
     "text": [
      "Epoch 10, Loss: 0.3509\n",
      "Epoch 20, Loss: 0.7648\n",
      "Epoch 30, Loss: 0.0269\n",
      "Epoch 40, Loss: 0.1522\n",
      "Epoch 50, Loss: 0.5126\n",
      "Epoch 60, Loss: 0.2234\n",
      "Epoch 70, Loss: 0.0074\n",
      "Epoch 80, Loss: 0.0014\n",
      "Epoch 90, Loss: 0.0680\n",
      "Epoch 100, Loss: 0.0067\n"
     ]
    }
   ],
   "source": [
    "# Training Loop\n",
    "epochs = 100\n",
    "for epoch in range(epochs):\n",
    "    for x_batch, y_batch in loader:\n",
    "        optimizer.zero_grad()\n",
    "        predictions = model(x_batch)\n",
    "        loss = criterion(predictions, y_batch)\n",
    "        loss.backward()\n",
    "        optimizer.step()\n",
    "    if (epoch + 1) % 10 == 0:\n",
    "        print(f'Epoch {epoch+1}, Loss: {loss.item():.4f}')\n"
   ]
  },
  {
   "cell_type": "code",
   "execution_count": 11,
   "metadata": {},
   "outputs": [
    {
     "name": "stdout",
     "output_type": "stream",
     "text": [
      "Prediction for input [[7.0, 8.0]]: 11.2787\n"
     ]
    }
   ],
   "source": [
    "# Evaluate model\n",
    "test_data = torch.tensor([[7.0, 8.0]])\n",
    "predicted = model(test_data)\n",
    "print(f'Prediction for input {test_data.tolist()}: {predicted.item():.4f}')"
   ]
  },
  {
   "cell_type": "code",
   "execution_count": null,
   "metadata": {},
   "outputs": [],
   "source": []
  },
  {
   "cell_type": "markdown",
   "metadata": {},
   "source": [
    "Import a sample csv dataset for regression"
   ]
  },
  {
   "cell_type": "code",
   "execution_count": 12,
   "metadata": {},
   "outputs": [],
   "source": [
    "import pandas as pd"
   ]
  },
  {
   "cell_type": "code",
   "execution_count": 13,
   "metadata": {},
   "outputs": [],
   "source": [
    "data = pd.read_csv('reconstructed_data/sample_data.csv')"
   ]
  },
  {
   "cell_type": "code",
   "execution_count": 14,
   "metadata": {},
   "outputs": [
    {
     "name": "stdout",
     "output_type": "stream",
     "text": [
      "features (x_tensor):\n",
      " tensor([[52., 93., 15., 72., 61., 21.],\n",
      "        [83., 87., 75., 75., 88., 24.],\n",
      "        [ 3., 22., 53.,  2., 88., 30.],\n",
      "        [38.,  2., 64., 60., 21., 33.],\n",
      "        [76., 58., 22., 89., 49., 91.],\n",
      "        [59., 42., 92., 60., 80., 15.],\n",
      "        [62., 62., 47., 62., 51., 55.],\n",
      "        [64.,  3., 51.,  7., 21., 73.],\n",
      "        [39., 18.,  4., 89., 60., 14.],\n",
      "        [ 9., 90., 53.,  2., 84., 92.],\n",
      "        [60., 71., 44.,  8., 47., 35.],\n",
      "        [78., 81., 36., 50.,  4.,  2.],\n",
      "        [ 6., 54.,  4., 54., 93., 63.],\n",
      "        [18., 90., 44., 34., 74., 62.],\n",
      "        [14., 95., 48., 15., 72., 78.],\n",
      "        [87., 62., 40., 85., 80., 82.],\n",
      "        [53., 24., 26., 89., 60., 41.],\n",
      "        [29., 15., 45., 65., 89., 71.],\n",
      "        [ 9., 88.,  1.,  8., 88., 63.],\n",
      "        [11., 81.,  8., 35., 35., 33.],\n",
      "        [ 5., 41., 28.,  7., 73., 72.],\n",
      "        [12., 34., 33., 48., 23., 62.],\n",
      "        [88., 37., 99., 44., 86., 91.],\n",
      "        [35., 65., 99., 47., 78.,  3.],\n",
      "        [ 1.,  5., 90., 14., 27.,  9.],\n",
      "        [79., 15., 90., 42., 77., 51.],\n",
      "        [63., 96., 52., 96.,  4., 94.],\n",
      "        [23., 15., 43., 29., 36., 13.],\n",
      "        [32., 71., 59., 86., 28., 66.],\n",
      "        [42., 45., 62., 57.,  6., 28.],\n",
      "        [28., 44., 84., 30., 62., 75.],\n",
      "        [92., 89., 62., 97.,  1., 27.],\n",
      "        [62., 77.,  3., 70., 72., 27.],\n",
      "        [ 9., 62., 37., 97., 51., 44.],\n",
      "        [24., 79., 59., 32., 96., 88.],\n",
      "        [52., 62., 58., 52., 12., 39.],\n",
      "        [ 2.,  3., 56., 81., 59.,  2.],\n",
      "        [ 2., 92., 54., 87., 96., 97.],\n",
      "        [ 1., 19.,  2., 53., 44., 90.],\n",
      "        [32., 70., 32., 68., 55., 75.],\n",
      "        [56., 17., 38., 24., 69., 98.],\n",
      "        [70., 86., 11., 16., 97., 73.],\n",
      "        [59., 70., 80., 93.,  3., 20.],\n",
      "        [59., 36., 19., 90., 67., 19.],\n",
      "        [20., 96., 71., 52., 33., 40.],\n",
      "        [39., 82.,  1., 11., 92., 57.],\n",
      "        [89., 50., 23., 31., 94., 42.],\n",
      "        [99.,  7., 16., 90., 60.,  2.],\n",
      "        [ 1., 48., 12., 69., 37., 32.],\n",
      "        [ 9., 99., 19., 48., 80.,  3.],\n",
      "        [20., 24., 54., 33., 24., 75.],\n",
      "        [72., 36., 38., 84., 99., 89.],\n",
      "        [99., 25., 93., 18., 82., 66.],\n",
      "        [54., 35., 80., 61., 41., 33.],\n",
      "        [68., 33., 14., 21., 48., 20.],\n",
      "        [ 8.,  7., 67., 17., 33., 48.],\n",
      "        [76., 59., 86., 22., 30., 38.],\n",
      "        [51., 54.,  8., 27., 27., 98.],\n",
      "        [21., 30., 97., 28., 64., 97.],\n",
      "        [69., 61., 48., 19.,  4., 35.],\n",
      "        [64., 49., 17., 44., 92., 30.],\n",
      "        [93., 46.,  6., 99., 37., 24.],\n",
      "        [93., 46., 53., 95., 99., 60.],\n",
      "        [97., 63., 85., 32., 87., 33.],\n",
      "        [67., 18., 25., 95., 54., 58.],\n",
      "        [67., 46., 24., 32., 47., 86.],\n",
      "        [23., 66., 27.,  2., 90., 17.],\n",
      "        [33.,  9., 43., 48., 39., 93.],\n",
      "        [42., 26., 99., 50., 25., 24.],\n",
      "        [13., 60.,  7., 57., 36., 45.],\n",
      "        [20., 65.,  8., 16., 14., 76.],\n",
      "        [87., 15., 92., 98., 66., 32.],\n",
      "        [87., 63., 86., 51., 25., 58.],\n",
      "        [63., 62., 22., 58., 58., 86.],\n",
      "        [49., 52., 42., 70., 15., 54.],\n",
      "        [60., 97.,  8., 53., 60.,  5.],\n",
      "        [68.,  6., 96., 94., 47., 99.],\n",
      "        [55., 40., 52., 16., 13., 30.],\n",
      "        [19., 17., 63., 19., 92., 58.],\n",
      "        [55., 90., 90., 62., 23.,  9.],\n",
      "        [12.,  1., 58.,  1., 34., 96.],\n",
      "        [48., 89.,  1., 16., 61., 64.],\n",
      "        [63., 69., 22., 93., 67., 76.],\n",
      "        [26., 16., 51., 86., 57., 29.],\n",
      "        [78., 92., 69., 47., 94., 62.],\n",
      "        [69., 76., 16., 90., 90., 48.],\n",
      "        [85., 39., 33., 94., 23., 10.],\n",
      "        [69., 34., 52., 95., 10., 19.],\n",
      "        [58., 96.,  1., 69.,  4., 16.],\n",
      "        [24., 80.,  2., 92., 32., 91.],\n",
      "        [84., 24., 12., 50., 35., 33.],\n",
      "        [33., 61., 51., 43., 12., 67.],\n",
      "        [65., 33., 40., 74., 43., 44.],\n",
      "        [29., 13., 12., 95., 46.,  2.],\n",
      "        [35., 87., 81., 90.,  8., 93.],\n",
      "        [26., 74., 90., 34.,  7., 68.],\n",
      "        [58., 75., 29., 36., 89., 21.],\n",
      "        [36., 10., 73., 24., 64., 99.],\n",
      "        [49., 99., 36., 82., 96., 24.],\n",
      "        [23., 62., 96., 37., 12., 55.]])\n",
      "Targets (y_tensor):\n",
      " tensor([0.0085, 0.0130, 0.0434, 0.0610, 0.0176, 0.0193, 0.0221, 0.4649, 0.0059,\n",
      "        0.0181, 0.0323, 0.0376, 0.0044, 0.0144, 0.0168, 0.0165, 0.0173, 0.0232,\n",
      "        0.0000, 0.0098, 0.0264, 0.0334, 0.0369, 0.0118, 0.0707, 0.0473, 0.0585,\n",
      "        0.0446, 0.0227, 0.0679, 0.0351, 0.1060, 0.0039, 0.0105, 0.0173, 0.0472,\n",
      "        0.0082, 0.0065, 0.0036, 0.0161, 0.0598, 0.0132, 0.0639, 0.0116, 0.0191,\n",
      "        0.0000, 0.0207, 0.0106, 0.0070, 0.0043, 0.0617, 0.0176, 0.0675, 0.0319,\n",
      "        0.0299, 0.1003, 0.0494, 0.0271, 0.0453, 0.1149, 0.0144, 0.0095, 0.0159,\n",
      "        0.0252, 0.0202, 0.0336, 0.0169, 0.0526, 0.0482, 0.0099, 0.0297, 0.0241,\n",
      "        0.0430, 0.0189, 0.0383, 0.0056, 0.0388, 0.0861, 0.0487, 0.0214, 1.4259,\n",
      "        0.0000, 0.0127, 0.0192, 0.0171, 0.0089, 0.0211, 0.0407, 0.0000, 0.0033,\n",
      "        0.0277, 0.0509, 0.0258, 0.0076, 0.0442, 0.0703, 0.0133, 0.0810, 0.0083,\n",
      "        0.0555])\n"
     ]
    }
   ],
   "source": [
    "x_data = data.iloc[:, :-1].values\n",
    "y_data = data.iloc[:, -1]\n",
    "\n",
    "# convert data to Pytorch Tensors\n",
    "x_tensor = torch.tensor(x_data, dtype=torch.float32)\n",
    "y_tensor = torch.tensor(y_data, dtype=torch.float32)\n",
    "\n",
    "print('features (x_tensor):\\n', x_tensor)\n",
    "print('Targets (y_tensor):\\n', y_tensor)"
   ]
  },
  {
   "cell_type": "code",
   "execution_count": null,
   "metadata": {},
   "outputs": [],
   "source": []
  },
  {
   "cell_type": "code",
   "execution_count": 29,
   "metadata": {},
   "outputs": [],
   "source": [
    "# building the NN\n",
    "class MultiLayerRegNN(nn.Module):\n",
    "    def __init__(self):\n",
    "        super(MultiLayerRegNN, self).__init__()\n",
    "        # Define layers: Linear -> ReLU -> Linear\n",
    "        self.fc1 = nn.Linear(6, 10) # input: 6 features output: 10 neurons\n",
    "        self.fc2 = nn.Linear(10, 8) # input: 10 features, output: 20 neuron\n",
    "        self.fc3 = nn.Linear(8, 1)\n",
    "\n",
    "    def forward(self, x):\n",
    "        # Define the forward pass\n",
    "        x = torch.relu(self.fc1(x)) # Apply ReLU activation \n",
    "        x = torch.relu(self.fc2(x)) # Apply ReLU activation \n",
    "        x = self.fc3(x) # Output layer (no activation here)\n",
    "        return x\n"
   ]
  },
  {
   "cell_type": "code",
   "execution_count": 30,
   "metadata": {},
   "outputs": [],
   "source": [
    "# Intantiate the model\n",
    "model = MultiLayerRegNN()\n",
    "\n",
    "# Define the loss function (Mean Squared Error for Regression)\n",
    "criterion = nn.MSELoss()\n",
    "\n",
    "# Define the optimizer (Stochastic Gradient Descent with learning Rate)\n",
    "optimizer = optim.SGD(model.parameters(), lr=0.01)"
   ]
  },
  {
   "cell_type": "code",
   "execution_count": 31,
   "metadata": {},
   "outputs": [],
   "source": [
    "# Create a dataloarder for batch processing\n",
    "dataset = TensorDataset(x_tensor, y_tensor)\n",
    "loader = DataLoader(dataset, batch_size=20, shuffle=True)\n"
   ]
  },
  {
   "cell_type": "code",
   "execution_count": 34,
   "metadata": {},
   "outputs": [
    {
     "name": "stdout",
     "output_type": "stream",
     "text": [
      "Epoch 100, Loss: 0.0010\n",
      "Epoch 200, Loss: 0.0009\n",
      "Epoch 300, Loss: 0.0008\n",
      "Epoch 400, Loss: 0.0008\n",
      "Epoch 500, Loss: 0.0009\n",
      "Epoch 600, Loss: 0.1044\n",
      "Epoch 700, Loss: 0.0958\n",
      "Epoch 800, Loss: 0.0013\n",
      "Epoch 900, Loss: 0.1046\n",
      "Epoch 1000, Loss: 0.0009\n"
     ]
    }
   ],
   "source": [
    "# Training Loop\n",
    "epochs = 1000\n",
    "for epoch in range(epochs):\n",
    "    for x_batch, y_batch in loader:\n",
    "        optimizer.zero_grad()\n",
    "        predictions = model(x_batch)\n",
    "        loss = criterion(predictions, y_batch)\n",
    "        loss.backward()\n",
    "        optimizer.step()\n",
    "    if (epoch + 1) % 100 == 0:\n",
    "        print(f'Epoch {epoch+1}, Loss: {loss.item():.4f}')\n"
   ]
  },
  {
   "cell_type": "code",
   "execution_count": null,
   "metadata": {},
   "outputs": [
    {
     "name": "stdout",
     "output_type": "stream",
     "text": [
      "torch.Size([20, 6])\n"
     ]
    }
   ],
   "source": []
  },
  {
   "cell_type": "code",
   "execution_count": null,
   "metadata": {},
   "outputs": [],
   "source": []
  },
  {
   "cell_type": "markdown",
   "metadata": {},
   "source": [
    "Multiclass classification"
   ]
  },
  {
   "cell_type": "code",
   "execution_count": null,
   "metadata": {},
   "outputs": [],
   "source": []
  },
  {
   "cell_type": "code",
   "execution_count": 35,
   "metadata": {},
   "outputs": [],
   "source": [
    "data_wine = pd.read_csv('data/winequality-red.csv')"
   ]
  },
  {
   "cell_type": "code",
   "execution_count": 36,
   "metadata": {},
   "outputs": [
    {
     "data": {
      "text/html": [
       "<div>\n",
       "<style scoped>\n",
       "    .dataframe tbody tr th:only-of-type {\n",
       "        vertical-align: middle;\n",
       "    }\n",
       "\n",
       "    .dataframe tbody tr th {\n",
       "        vertical-align: top;\n",
       "    }\n",
       "\n",
       "    .dataframe thead th {\n",
       "        text-align: right;\n",
       "    }\n",
       "</style>\n",
       "<table border=\"1\" class=\"dataframe\">\n",
       "  <thead>\n",
       "    <tr style=\"text-align: right;\">\n",
       "      <th></th>\n",
       "      <th>fixed acidity</th>\n",
       "      <th>volatile acidity</th>\n",
       "      <th>citric acid</th>\n",
       "      <th>residual sugar</th>\n",
       "      <th>chlorides</th>\n",
       "      <th>free sulfur dioxide</th>\n",
       "      <th>total sulfur dioxide</th>\n",
       "      <th>density</th>\n",
       "      <th>pH</th>\n",
       "      <th>sulphates</th>\n",
       "      <th>alcohol</th>\n",
       "      <th>quality</th>\n",
       "    </tr>\n",
       "  </thead>\n",
       "  <tbody>\n",
       "    <tr>\n",
       "      <th>0</th>\n",
       "      <td>7.4</td>\n",
       "      <td>0.700</td>\n",
       "      <td>0.00</td>\n",
       "      <td>1.9</td>\n",
       "      <td>0.076</td>\n",
       "      <td>11.0</td>\n",
       "      <td>34.0</td>\n",
       "      <td>0.99780</td>\n",
       "      <td>3.51</td>\n",
       "      <td>0.56</td>\n",
       "      <td>9.4</td>\n",
       "      <td>5</td>\n",
       "    </tr>\n",
       "    <tr>\n",
       "      <th>1</th>\n",
       "      <td>7.8</td>\n",
       "      <td>0.880</td>\n",
       "      <td>0.00</td>\n",
       "      <td>2.6</td>\n",
       "      <td>0.098</td>\n",
       "      <td>25.0</td>\n",
       "      <td>67.0</td>\n",
       "      <td>0.99680</td>\n",
       "      <td>3.20</td>\n",
       "      <td>0.68</td>\n",
       "      <td>9.8</td>\n",
       "      <td>5</td>\n",
       "    </tr>\n",
       "    <tr>\n",
       "      <th>2</th>\n",
       "      <td>7.8</td>\n",
       "      <td>0.760</td>\n",
       "      <td>0.04</td>\n",
       "      <td>2.3</td>\n",
       "      <td>0.092</td>\n",
       "      <td>15.0</td>\n",
       "      <td>54.0</td>\n",
       "      <td>0.99700</td>\n",
       "      <td>3.26</td>\n",
       "      <td>0.65</td>\n",
       "      <td>9.8</td>\n",
       "      <td>5</td>\n",
       "    </tr>\n",
       "    <tr>\n",
       "      <th>3</th>\n",
       "      <td>11.2</td>\n",
       "      <td>0.280</td>\n",
       "      <td>0.56</td>\n",
       "      <td>1.9</td>\n",
       "      <td>0.075</td>\n",
       "      <td>17.0</td>\n",
       "      <td>60.0</td>\n",
       "      <td>0.99800</td>\n",
       "      <td>3.16</td>\n",
       "      <td>0.58</td>\n",
       "      <td>9.8</td>\n",
       "      <td>6</td>\n",
       "    </tr>\n",
       "    <tr>\n",
       "      <th>4</th>\n",
       "      <td>7.4</td>\n",
       "      <td>0.700</td>\n",
       "      <td>0.00</td>\n",
       "      <td>1.9</td>\n",
       "      <td>0.076</td>\n",
       "      <td>11.0</td>\n",
       "      <td>34.0</td>\n",
       "      <td>0.99780</td>\n",
       "      <td>3.51</td>\n",
       "      <td>0.56</td>\n",
       "      <td>9.4</td>\n",
       "      <td>5</td>\n",
       "    </tr>\n",
       "    <tr>\n",
       "      <th>...</th>\n",
       "      <td>...</td>\n",
       "      <td>...</td>\n",
       "      <td>...</td>\n",
       "      <td>...</td>\n",
       "      <td>...</td>\n",
       "      <td>...</td>\n",
       "      <td>...</td>\n",
       "      <td>...</td>\n",
       "      <td>...</td>\n",
       "      <td>...</td>\n",
       "      <td>...</td>\n",
       "      <td>...</td>\n",
       "    </tr>\n",
       "    <tr>\n",
       "      <th>1594</th>\n",
       "      <td>6.2</td>\n",
       "      <td>0.600</td>\n",
       "      <td>0.08</td>\n",
       "      <td>2.0</td>\n",
       "      <td>0.090</td>\n",
       "      <td>32.0</td>\n",
       "      <td>44.0</td>\n",
       "      <td>0.99490</td>\n",
       "      <td>3.45</td>\n",
       "      <td>0.58</td>\n",
       "      <td>10.5</td>\n",
       "      <td>5</td>\n",
       "    </tr>\n",
       "    <tr>\n",
       "      <th>1595</th>\n",
       "      <td>5.9</td>\n",
       "      <td>0.550</td>\n",
       "      <td>0.10</td>\n",
       "      <td>2.2</td>\n",
       "      <td>0.062</td>\n",
       "      <td>39.0</td>\n",
       "      <td>51.0</td>\n",
       "      <td>0.99512</td>\n",
       "      <td>3.52</td>\n",
       "      <td>0.76</td>\n",
       "      <td>11.2</td>\n",
       "      <td>6</td>\n",
       "    </tr>\n",
       "    <tr>\n",
       "      <th>1596</th>\n",
       "      <td>6.3</td>\n",
       "      <td>0.510</td>\n",
       "      <td>0.13</td>\n",
       "      <td>2.3</td>\n",
       "      <td>0.076</td>\n",
       "      <td>29.0</td>\n",
       "      <td>40.0</td>\n",
       "      <td>0.99574</td>\n",
       "      <td>3.42</td>\n",
       "      <td>0.75</td>\n",
       "      <td>11.0</td>\n",
       "      <td>6</td>\n",
       "    </tr>\n",
       "    <tr>\n",
       "      <th>1597</th>\n",
       "      <td>5.9</td>\n",
       "      <td>0.645</td>\n",
       "      <td>0.12</td>\n",
       "      <td>2.0</td>\n",
       "      <td>0.075</td>\n",
       "      <td>32.0</td>\n",
       "      <td>44.0</td>\n",
       "      <td>0.99547</td>\n",
       "      <td>3.57</td>\n",
       "      <td>0.71</td>\n",
       "      <td>10.2</td>\n",
       "      <td>5</td>\n",
       "    </tr>\n",
       "    <tr>\n",
       "      <th>1598</th>\n",
       "      <td>6.0</td>\n",
       "      <td>0.310</td>\n",
       "      <td>0.47</td>\n",
       "      <td>3.6</td>\n",
       "      <td>0.067</td>\n",
       "      <td>18.0</td>\n",
       "      <td>42.0</td>\n",
       "      <td>0.99549</td>\n",
       "      <td>3.39</td>\n",
       "      <td>0.66</td>\n",
       "      <td>11.0</td>\n",
       "      <td>6</td>\n",
       "    </tr>\n",
       "  </tbody>\n",
       "</table>\n",
       "<p>1599 rows × 12 columns</p>\n",
       "</div>"
      ],
      "text/plain": [
       "      fixed acidity  volatile acidity  citric acid  residual sugar  chlorides  \\\n",
       "0               7.4             0.700         0.00             1.9      0.076   \n",
       "1               7.8             0.880         0.00             2.6      0.098   \n",
       "2               7.8             0.760         0.04             2.3      0.092   \n",
       "3              11.2             0.280         0.56             1.9      0.075   \n",
       "4               7.4             0.700         0.00             1.9      0.076   \n",
       "...             ...               ...          ...             ...        ...   \n",
       "1594            6.2             0.600         0.08             2.0      0.090   \n",
       "1595            5.9             0.550         0.10             2.2      0.062   \n",
       "1596            6.3             0.510         0.13             2.3      0.076   \n",
       "1597            5.9             0.645         0.12             2.0      0.075   \n",
       "1598            6.0             0.310         0.47             3.6      0.067   \n",
       "\n",
       "      free sulfur dioxide  total sulfur dioxide  density    pH  sulphates  \\\n",
       "0                    11.0                  34.0  0.99780  3.51       0.56   \n",
       "1                    25.0                  67.0  0.99680  3.20       0.68   \n",
       "2                    15.0                  54.0  0.99700  3.26       0.65   \n",
       "3                    17.0                  60.0  0.99800  3.16       0.58   \n",
       "4                    11.0                  34.0  0.99780  3.51       0.56   \n",
       "...                   ...                   ...      ...   ...        ...   \n",
       "1594                 32.0                  44.0  0.99490  3.45       0.58   \n",
       "1595                 39.0                  51.0  0.99512  3.52       0.76   \n",
       "1596                 29.0                  40.0  0.99574  3.42       0.75   \n",
       "1597                 32.0                  44.0  0.99547  3.57       0.71   \n",
       "1598                 18.0                  42.0  0.99549  3.39       0.66   \n",
       "\n",
       "      alcohol  quality  \n",
       "0         9.4        5  \n",
       "1         9.8        5  \n",
       "2         9.8        5  \n",
       "3         9.8        6  \n",
       "4         9.4        5  \n",
       "...       ...      ...  \n",
       "1594     10.5        5  \n",
       "1595     11.2        6  \n",
       "1596     11.0        6  \n",
       "1597     10.2        5  \n",
       "1598     11.0        6  \n",
       "\n",
       "[1599 rows x 12 columns]"
      ]
     },
     "execution_count": 36,
     "metadata": {},
     "output_type": "execute_result"
    }
   ],
   "source": [
    "data_wine"
   ]
  },
  {
   "cell_type": "code",
   "execution_count": 38,
   "metadata": {},
   "outputs": [
    {
     "data": {
      "text/plain": [
       "array([5, 6, 7, 4, 8, 3])"
      ]
     },
     "execution_count": 38,
     "metadata": {},
     "output_type": "execute_result"
    }
   ],
   "source": [
    "data_wine['quality'].unique()"
   ]
  },
  {
   "cell_type": "code",
   "execution_count": 39,
   "metadata": {},
   "outputs": [],
   "source": [
    "from sklearn.model_selection import train_test_split"
   ]
  },
  {
   "cell_type": "code",
   "execution_count": 44,
   "metadata": {},
   "outputs": [
    {
     "ename": "ValueError",
     "evalue": "could not determine the shape of object type 'Series'",
     "output_type": "error",
     "traceback": [
      "\u001b[1;31m---------------------------------------------------------------------------\u001b[0m",
      "\u001b[1;31mValueError\u001b[0m                                Traceback (most recent call last)",
      "Cell \u001b[1;32mIn[44], line 17\u001b[0m\n\u001b[0;32m     15\u001b[0m y_train_tensor \u001b[38;5;241m=\u001b[39m torch\u001b[38;5;241m.\u001b[39mtensor(y_train, dtype\u001b[38;5;241m=\u001b[39mtorch\u001b[38;5;241m.\u001b[39mlong)  \u001b[38;5;66;03m# Classification requires long\u001b[39;00m\n\u001b[0;32m     16\u001b[0m x_test_tensor \u001b[38;5;241m=\u001b[39m torch\u001b[38;5;241m.\u001b[39mtensor(x_test, dtype\u001b[38;5;241m=\u001b[39mtorch\u001b[38;5;241m.\u001b[39mfloat32)\n\u001b[1;32m---> 17\u001b[0m y_test_tensor \u001b[38;5;241m=\u001b[39m \u001b[43mtorch\u001b[49m\u001b[38;5;241;43m.\u001b[39;49m\u001b[43mtensor\u001b[49m\u001b[43m(\u001b[49m\u001b[43my_test\u001b[49m\u001b[43m,\u001b[49m\u001b[43m \u001b[49m\u001b[43mdtype\u001b[49m\u001b[38;5;241;43m=\u001b[39;49m\u001b[43mtorch\u001b[49m\u001b[38;5;241;43m.\u001b[39;49m\u001b[43mlong\u001b[49m\u001b[43m)\u001b[49m\n\u001b[0;32m     19\u001b[0m \u001b[38;5;66;03m# Print to verify\u001b[39;00m\n\u001b[0;32m     20\u001b[0m \u001b[38;5;28mprint\u001b[39m(\u001b[38;5;124m\"\u001b[39m\u001b[38;5;124mFeatures (Train):\u001b[39m\u001b[38;5;124m\"\u001b[39m, x_train_tensor\u001b[38;5;241m.\u001b[39mshape)\n",
      "\u001b[1;31mValueError\u001b[0m: could not determine the shape of object type 'Series'"
     ]
    }
   ],
   "source": [
    "x_data_wine = data_wine.iloc[:, :-1].values\n",
    "y_data_wine = data_wine.iloc[:, -1]\n",
    "\n",
    "# convert data to Pytorch Tensors\n",
    "x_tensor = torch.tensor(x_data_wine, dtype=torch.float32)\n",
    "y_tensor = torch.tensor(y_data_wine, dtype=torch.long)\n",
    "\n",
    "# Step 4: Split the dataset into training and test sets\n",
    "x_train, x_test, y_train, y_test = train_test_split(\n",
    "    x_data_wine, y_data_wine, test_size=0.2, random_state=42\n",
    ")\n",
    "\n",
    "# Step 5: Convert to PyTorch tensors\n",
    "x_train_tensor = torch.tensor(x_train, dtype=torch.float32)\n",
    "y_train_tensor = torch.tensor(y_train, dtype=torch.long)  # Classification requires long\n",
    "x_test_tensor = torch.tensor(x_test, dtype=torch.float32)\n",
    "y_test_tensor = torch.tensor(y_test, dtype=torch.long)\n",
    "\n",
    "# Print to verify\n",
    "print(\"Features (Train):\", x_train_tensor.shape)\n",
    "print(\"Targets (Train):\", y_train_tensor.shape)\n",
    "\n"
   ]
  },
  {
   "cell_type": "code",
   "execution_count": null,
   "metadata": {},
   "outputs": [],
   "source": []
  },
  {
   "cell_type": "code",
   "execution_count": null,
   "metadata": {},
   "outputs": [],
   "source": []
  },
  {
   "cell_type": "code",
   "execution_count": 45,
   "metadata": {},
   "outputs": [],
   "source": [
    "students = [\"Alice\", \"Bob\", \"Charlie\"]\n",
    "subjects = [\"Math\", \"History\", \"Biology\"]"
   ]
  },
  {
   "cell_type": "code",
   "execution_count": 46,
   "metadata": {},
   "outputs": [
    {
     "data": {
      "text/plain": [
       "['Alice', 'Bob', 'Charlie']"
      ]
     },
     "execution_count": 46,
     "metadata": {},
     "output_type": "execute_result"
    }
   ],
   "source": [
    "students"
   ]
  },
  {
   "cell_type": "code",
   "execution_count": 47,
   "metadata": {},
   "outputs": [
    {
     "name": "stdout",
     "output_type": "stream",
     "text": [
      "['Math', 'History', 'Biology']\n"
     ]
    }
   ],
   "source": [
    "print(subjects)"
   ]
  },
  {
   "cell_type": "code",
   "execution_count": 50,
   "metadata": {},
   "outputs": [
    {
     "name": "stdout",
     "output_type": "stream",
     "text": [
      "Alice Math\n",
      "Bob History\n",
      "Charlie Biology\n"
     ]
    }
   ],
   "source": [
    "\n",
    "\n",
    "for stud, sub in zip(students, subjects):\n",
    "    print(stud, sub)\n",
    "    \n",
    "    "
   ]
  },
  {
   "cell_type": "code",
   "execution_count": null,
   "metadata": {},
   "outputs": [],
   "source": []
  }
 ],
 "metadata": {
  "kernelspec": {
   "display_name": "boot_DA",
   "language": "python",
   "name": "python3"
  },
  "language_info": {
   "codemirror_mode": {
    "name": "ipython",
    "version": 3
   },
   "file_extension": ".py",
   "mimetype": "text/x-python",
   "name": "python",
   "nbconvert_exporter": "python",
   "pygments_lexer": "ipython3",
   "version": "3.10.14"
  }
 },
 "nbformat": 4,
 "nbformat_minor": 2
}
